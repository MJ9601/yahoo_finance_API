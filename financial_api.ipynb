{
 "metadata": {
  "language_info": {
   "codemirror_mode": {
    "name": "ipython",
    "version": 3
   },
   "file_extension": ".py",
   "mimetype": "text/x-python",
   "name": "python",
   "nbconvert_exporter": "python",
   "pygments_lexer": "ipython3",
   "version": "3.8.3-final"
  },
  "orig_nbformat": 2,
  "kernelspec": {
   "name": "python_defaultSpec_1600248938028",
   "display_name": "Python 3.8.3 32-bit"
  }
 },
 "nbformat": 4,
 "nbformat_minor": 2,
 "cells": [
  {
   "cell_type": "code",
   "execution_count": 1,
   "metadata": {},
   "outputs": [],
   "source": [
    "import requests\n",
    "import csv\n",
    "import json\n",
    "import pandas as pd \n",
    "import numpy as np \n",
    "from matplotlib import pyplot as plt\n",
    "from matplotlib import dates as mpl_dates\n",
    "import key1\n",
    "\n"
   ]
  },
  {
   "cell_type": "code",
   "execution_count": 2,
   "metadata": {},
   "outputs": [],
   "source": [
    "key = key1.key()\n",
    "company = 'IBM'\n",
    "outputsize = 'compact'\n",
    "response = requests.get(f'https://www.alphavantage.co/query?function=TIME_SERIES_DAILY_ADJUSTED&symbol={company}&outputsize={outputsize}&apikey={key}')\n",
    "\n",
    "res = json.loads(response.text)\n",
    "df = pd.DataFrame(res)\n"
   ]
  },
  {
   "cell_type": "code",
   "execution_count": 3,
   "metadata": {},
   "outputs": [
    {
     "output_type": "execute_result",
     "data": {
      "text/plain": "                                                           Meta Data  \\\n1. Information     Daily Time Series with Splits and Dividend Events   \n2. Symbol                                                        IBM   \n3. Last Refreshed                                         2020-09-15   \n4. Output Size                                               Compact   \n5. Time Zone                                              US/Eastern   \n...                                                              ...   \n2020-04-30                                                       NaN   \n2020-04-29                                                       NaN   \n2020-04-28                                                       NaN   \n2020-04-27                                                       NaN   \n2020-04-24                                                       NaN   \n\n                                                 Time Series (Daily)  \n1. Information                                                   NaN  \n2. Symbol                                                        NaN  \n3. Last Refreshed                                                NaN  \n4. Output Size                                                   NaN  \n5. Time Zone                                                     NaN  \n...                                                              ...  \n2020-04-30         {'1. open': '126.5200', '2. high': '127.2700',...  \n2020-04-29         {'1. open': '128.8800', '2. high': '129.3100',...  \n2020-04-28         {'1. open': '128.0300', '2. high': '128.2000',...  \n2020-04-27         {'1. open': '125.5600', '2. high': '126.9900',...  \n2020-04-24         {'1. open': '122.4100', '2. high': '125.0000',...  \n\n[105 rows x 2 columns]",
      "text/html": "<div>\n<style scoped>\n    .dataframe tbody tr th:only-of-type {\n        vertical-align: middle;\n    }\n\n    .dataframe tbody tr th {\n        vertical-align: top;\n    }\n\n    .dataframe thead th {\n        text-align: right;\n    }\n</style>\n<table border=\"1\" class=\"dataframe\">\n  <thead>\n    <tr style=\"text-align: right;\">\n      <th></th>\n      <th>Meta Data</th>\n      <th>Time Series (Daily)</th>\n    </tr>\n  </thead>\n  <tbody>\n    <tr>\n      <th>1. Information</th>\n      <td>Daily Time Series with Splits and Dividend Events</td>\n      <td>NaN</td>\n    </tr>\n    <tr>\n      <th>2. Symbol</th>\n      <td>IBM</td>\n      <td>NaN</td>\n    </tr>\n    <tr>\n      <th>3. Last Refreshed</th>\n      <td>2020-09-15</td>\n      <td>NaN</td>\n    </tr>\n    <tr>\n      <th>4. Output Size</th>\n      <td>Compact</td>\n      <td>NaN</td>\n    </tr>\n    <tr>\n      <th>5. Time Zone</th>\n      <td>US/Eastern</td>\n      <td>NaN</td>\n    </tr>\n    <tr>\n      <th>...</th>\n      <td>...</td>\n      <td>...</td>\n    </tr>\n    <tr>\n      <th>2020-04-30</th>\n      <td>NaN</td>\n      <td>{'1. open': '126.5200', '2. high': '127.2700',...</td>\n    </tr>\n    <tr>\n      <th>2020-04-29</th>\n      <td>NaN</td>\n      <td>{'1. open': '128.8800', '2. high': '129.3100',...</td>\n    </tr>\n    <tr>\n      <th>2020-04-28</th>\n      <td>NaN</td>\n      <td>{'1. open': '128.0300', '2. high': '128.2000',...</td>\n    </tr>\n    <tr>\n      <th>2020-04-27</th>\n      <td>NaN</td>\n      <td>{'1. open': '125.5600', '2. high': '126.9900',...</td>\n    </tr>\n    <tr>\n      <th>2020-04-24</th>\n      <td>NaN</td>\n      <td>{'1. open': '122.4100', '2. high': '125.0000',...</td>\n    </tr>\n  </tbody>\n</table>\n<p>105 rows × 2 columns</p>\n</div>"
     },
     "metadata": {},
     "execution_count": 3
    }
   ],
   "source": [
    "df"
   ]
  },
  {
   "cell_type": "code",
   "execution_count": 4,
   "metadata": {},
   "outputs": [
    {
     "output_type": "execute_result",
     "data": {
      "text/plain": "                                                           Meta Data  \\\n1. Information     Daily Time Series with Splits and Dividend Events   \n2. Symbol                                                        IBM   \n3. Last Refreshed                                         2020-09-15   \n4. Output Size                                               Compact   \n5. Time Zone                                              US/Eastern   \n2020-09-15                                                       NaN   \n2020-09-14                                                       NaN   \n2020-09-11                                                       NaN   \n2020-09-10                                                       NaN   \n2020-09-09                                                       NaN   \n\n                                                 Time Series (Daily)  \n1. Information                                                   NaN  \n2. Symbol                                                        NaN  \n3. Last Refreshed                                                NaN  \n4. Output Size                                                   NaN  \n5. Time Zone                                                     NaN  \n2020-09-15         {'1. open': '122.8200', '2. high': '123.4000',...  \n2020-09-14         {'1. open': '122.3600', '2. high': '123.3800',...  \n2020-09-11         {'1. open': '121.3900', '2. high': '122.7000',...  \n2020-09-10         {'1. open': '122.5300', '2. high': '123.5764',...  \n2020-09-09         {'1. open': '122.1300', '2. high': '123.7000',...  ",
      "text/html": "<div>\n<style scoped>\n    .dataframe tbody tr th:only-of-type {\n        vertical-align: middle;\n    }\n\n    .dataframe tbody tr th {\n        vertical-align: top;\n    }\n\n    .dataframe thead th {\n        text-align: right;\n    }\n</style>\n<table border=\"1\" class=\"dataframe\">\n  <thead>\n    <tr style=\"text-align: right;\">\n      <th></th>\n      <th>Meta Data</th>\n      <th>Time Series (Daily)</th>\n    </tr>\n  </thead>\n  <tbody>\n    <tr>\n      <th>1. Information</th>\n      <td>Daily Time Series with Splits and Dividend Events</td>\n      <td>NaN</td>\n    </tr>\n    <tr>\n      <th>2. Symbol</th>\n      <td>IBM</td>\n      <td>NaN</td>\n    </tr>\n    <tr>\n      <th>3. Last Refreshed</th>\n      <td>2020-09-15</td>\n      <td>NaN</td>\n    </tr>\n    <tr>\n      <th>4. Output Size</th>\n      <td>Compact</td>\n      <td>NaN</td>\n    </tr>\n    <tr>\n      <th>5. Time Zone</th>\n      <td>US/Eastern</td>\n      <td>NaN</td>\n    </tr>\n    <tr>\n      <th>2020-09-15</th>\n      <td>NaN</td>\n      <td>{'1. open': '122.8200', '2. high': '123.4000',...</td>\n    </tr>\n    <tr>\n      <th>2020-09-14</th>\n      <td>NaN</td>\n      <td>{'1. open': '122.3600', '2. high': '123.3800',...</td>\n    </tr>\n    <tr>\n      <th>2020-09-11</th>\n      <td>NaN</td>\n      <td>{'1. open': '121.3900', '2. high': '122.7000',...</td>\n    </tr>\n    <tr>\n      <th>2020-09-10</th>\n      <td>NaN</td>\n      <td>{'1. open': '122.5300', '2. high': '123.5764',...</td>\n    </tr>\n    <tr>\n      <th>2020-09-09</th>\n      <td>NaN</td>\n      <td>{'1. open': '122.1300', '2. high': '123.7000',...</td>\n    </tr>\n  </tbody>\n</table>\n</div>"
     },
     "metadata": {},
     "execution_count": 4
    }
   ],
   "source": [
    "df.head(10)"
   ]
  },
  {
   "cell_type": "code",
   "execution_count": 5,
   "metadata": {},
   "outputs": [
    {
     "output_type": "execute_result",
     "data": {
      "text/plain": "           Meta Data                                Time Series (Daily)\n2020-09-15       NaN  {'1. open': '122.8200', '2. high': '123.4000',...\n2020-09-14       NaN  {'1. open': '122.3600', '2. high': '123.3800',...\n2020-09-11       NaN  {'1. open': '121.3900', '2. high': '122.7000',...\n2020-09-10       NaN  {'1. open': '122.5300', '2. high': '123.5764',...\n2020-09-09       NaN  {'1. open': '122.1300', '2. high': '123.7000',...\n...              ...                                                ...\n2020-04-30       NaN  {'1. open': '126.5200', '2. high': '127.2700',...\n2020-04-29       NaN  {'1. open': '128.8800', '2. high': '129.3100',...\n2020-04-28       NaN  {'1. open': '128.0300', '2. high': '128.2000',...\n2020-04-27       NaN  {'1. open': '125.5600', '2. high': '126.9900',...\n2020-04-24       NaN  {'1. open': '122.4100', '2. high': '125.0000',...\n\n[100 rows x 2 columns]",
      "text/html": "<div>\n<style scoped>\n    .dataframe tbody tr th:only-of-type {\n        vertical-align: middle;\n    }\n\n    .dataframe tbody tr th {\n        vertical-align: top;\n    }\n\n    .dataframe thead th {\n        text-align: right;\n    }\n</style>\n<table border=\"1\" class=\"dataframe\">\n  <thead>\n    <tr style=\"text-align: right;\">\n      <th></th>\n      <th>Meta Data</th>\n      <th>Time Series (Daily)</th>\n    </tr>\n  </thead>\n  <tbody>\n    <tr>\n      <th>2020-09-15</th>\n      <td>NaN</td>\n      <td>{'1. open': '122.8200', '2. high': '123.4000',...</td>\n    </tr>\n    <tr>\n      <th>2020-09-14</th>\n      <td>NaN</td>\n      <td>{'1. open': '122.3600', '2. high': '123.3800',...</td>\n    </tr>\n    <tr>\n      <th>2020-09-11</th>\n      <td>NaN</td>\n      <td>{'1. open': '121.3900', '2. high': '122.7000',...</td>\n    </tr>\n    <tr>\n      <th>2020-09-10</th>\n      <td>NaN</td>\n      <td>{'1. open': '122.5300', '2. high': '123.5764',...</td>\n    </tr>\n    <tr>\n      <th>2020-09-09</th>\n      <td>NaN</td>\n      <td>{'1. open': '122.1300', '2. high': '123.7000',...</td>\n    </tr>\n    <tr>\n      <th>...</th>\n      <td>...</td>\n      <td>...</td>\n    </tr>\n    <tr>\n      <th>2020-04-30</th>\n      <td>NaN</td>\n      <td>{'1. open': '126.5200', '2. high': '127.2700',...</td>\n    </tr>\n    <tr>\n      <th>2020-04-29</th>\n      <td>NaN</td>\n      <td>{'1. open': '128.8800', '2. high': '129.3100',...</td>\n    </tr>\n    <tr>\n      <th>2020-04-28</th>\n      <td>NaN</td>\n      <td>{'1. open': '128.0300', '2. high': '128.2000',...</td>\n    </tr>\n    <tr>\n      <th>2020-04-27</th>\n      <td>NaN</td>\n      <td>{'1. open': '125.5600', '2. high': '126.9900',...</td>\n    </tr>\n    <tr>\n      <th>2020-04-24</th>\n      <td>NaN</td>\n      <td>{'1. open': '122.4100', '2. high': '125.0000',...</td>\n    </tr>\n  </tbody>\n</table>\n<p>100 rows × 2 columns</p>\n</div>"
     },
     "metadata": {},
     "execution_count": 5
    }
   ],
   "source": [
    "df.dropna(axis='index', how ='all', subset=['Time Series (Daily)'], inplace=True)\n",
    "df"
   ]
  },
  {
   "cell_type": "code",
   "execution_count": 6,
   "metadata": {
    "tags": []
   },
   "outputs": [],
   "source": [
    "df.index.rename('Date', inplace=True)\n",
    "df.dropna(axis='columns', how='all', inplace=True)\n"
   ]
  },
  {
   "cell_type": "code",
   "execution_count": 7,
   "metadata": {},
   "outputs": [
    {
     "output_type": "execute_result",
     "data": {
      "text/plain": "{'1. open': '122.8200',\n '2. high': '123.4000',\n '3. low': '122.2400',\n '4. close': '122.4400',\n '5. adjusted close': '122.4400',\n '6. volume': '2915221',\n '7. dividend amount': '0.0000',\n '8. split coefficient': '1.0000'}"
     },
     "metadata": {},
     "execution_count": 7
    }
   ],
   "source": [
    "df.loc['2020-09-15']['Time Series (Daily)']"
   ]
  },
  {
   "cell_type": "code",
   "execution_count": 8,
   "metadata": {},
   "outputs": [
    {
     "output_type": "execute_result",
     "data": {
      "text/plain": "                                          Time Series (Daily)    open  \\\nDate                                                                    \n2020-09-15  {'1. open': '122.8200', '2. high': '123.4000',...  122.82   \n2020-09-14  {'1. open': '122.3600', '2. high': '123.3800',...  122.36   \n2020-09-11  {'1. open': '121.3900', '2. high': '122.7000',...  121.39   \n2020-09-10  {'1. open': '122.5300', '2. high': '123.5764',...  122.53   \n2020-09-09  {'1. open': '122.1300', '2. high': '123.7000',...  122.13   \n...                                                       ...     ...   \n2020-04-30  {'1. open': '126.5200', '2. high': '127.2700',...  126.52   \n2020-04-29  {'1. open': '128.8800', '2. high': '129.3100',...  128.88   \n2020-04-28  {'1. open': '128.0300', '2. high': '128.2000',...  128.03   \n2020-04-27  {'1. open': '125.5600', '2. high': '126.9900',...  125.56   \n2020-04-24  {'1. open': '122.4100', '2. high': '125.0000',...  122.41   \n\n                high     low   Close  adjusted close     Valume  \\\nDate                                                              \n2020-09-15  123.4000  122.24  122.44        122.4400  2915221.0   \n2020-09-14  123.3800  121.76  122.09        122.0900  3641887.0   \n2020-09-11  122.7000  120.73  121.46        121.4600  3548091.0   \n2020-09-10  123.5764  120.24  120.56        120.5600  3978805.0   \n2020-09-09  123.7000  121.29  122.26        122.2600  3770678.0   \n...              ...     ...     ...             ...        ...   \n2020-04-30  127.2700  125.22  125.56        122.2989  6635800.0   \n2020-04-29  129.3100  127.53  128.69        125.3476  5257600.0   \n2020-04-28  128.2000  125.38  126.27        122.9905  4778100.0   \n2020-04-27  126.9900  125.47  125.92        122.6495  4923800.0   \n2020-04-24  125.0000  120.76  124.72        121.4807  4987300.0   \n\n            dividend amount  split coefficient  \nDate                                            \n2020-09-15              0.0                1.0  \n2020-09-14              0.0                1.0  \n2020-09-11              0.0                1.0  \n2020-09-10              0.0                1.0  \n2020-09-09              0.0                1.0  \n...                     ...                ...  \n2020-04-30              0.0                1.0  \n2020-04-29              0.0                1.0  \n2020-04-28              0.0                1.0  \n2020-04-27              0.0                1.0  \n2020-04-24              0.0                1.0  \n\n[100 rows x 9 columns]",
      "text/html": "<div>\n<style scoped>\n    .dataframe tbody tr th:only-of-type {\n        vertical-align: middle;\n    }\n\n    .dataframe tbody tr th {\n        vertical-align: top;\n    }\n\n    .dataframe thead th {\n        text-align: right;\n    }\n</style>\n<table border=\"1\" class=\"dataframe\">\n  <thead>\n    <tr style=\"text-align: right;\">\n      <th></th>\n      <th>Time Series (Daily)</th>\n      <th>open</th>\n      <th>high</th>\n      <th>low</th>\n      <th>Close</th>\n      <th>adjusted close</th>\n      <th>Valume</th>\n      <th>dividend amount</th>\n      <th>split coefficient</th>\n    </tr>\n    <tr>\n      <th>Date</th>\n      <th></th>\n      <th></th>\n      <th></th>\n      <th></th>\n      <th></th>\n      <th></th>\n      <th></th>\n      <th></th>\n      <th></th>\n    </tr>\n  </thead>\n  <tbody>\n    <tr>\n      <th>2020-09-15</th>\n      <td>{'1. open': '122.8200', '2. high': '123.4000',...</td>\n      <td>122.82</td>\n      <td>123.4000</td>\n      <td>122.24</td>\n      <td>122.44</td>\n      <td>122.4400</td>\n      <td>2915221.0</td>\n      <td>0.0</td>\n      <td>1.0</td>\n    </tr>\n    <tr>\n      <th>2020-09-14</th>\n      <td>{'1. open': '122.3600', '2. high': '123.3800',...</td>\n      <td>122.36</td>\n      <td>123.3800</td>\n      <td>121.76</td>\n      <td>122.09</td>\n      <td>122.0900</td>\n      <td>3641887.0</td>\n      <td>0.0</td>\n      <td>1.0</td>\n    </tr>\n    <tr>\n      <th>2020-09-11</th>\n      <td>{'1. open': '121.3900', '2. high': '122.7000',...</td>\n      <td>121.39</td>\n      <td>122.7000</td>\n      <td>120.73</td>\n      <td>121.46</td>\n      <td>121.4600</td>\n      <td>3548091.0</td>\n      <td>0.0</td>\n      <td>1.0</td>\n    </tr>\n    <tr>\n      <th>2020-09-10</th>\n      <td>{'1. open': '122.5300', '2. high': '123.5764',...</td>\n      <td>122.53</td>\n      <td>123.5764</td>\n      <td>120.24</td>\n      <td>120.56</td>\n      <td>120.5600</td>\n      <td>3978805.0</td>\n      <td>0.0</td>\n      <td>1.0</td>\n    </tr>\n    <tr>\n      <th>2020-09-09</th>\n      <td>{'1. open': '122.1300', '2. high': '123.7000',...</td>\n      <td>122.13</td>\n      <td>123.7000</td>\n      <td>121.29</td>\n      <td>122.26</td>\n      <td>122.2600</td>\n      <td>3770678.0</td>\n      <td>0.0</td>\n      <td>1.0</td>\n    </tr>\n    <tr>\n      <th>...</th>\n      <td>...</td>\n      <td>...</td>\n      <td>...</td>\n      <td>...</td>\n      <td>...</td>\n      <td>...</td>\n      <td>...</td>\n      <td>...</td>\n      <td>...</td>\n    </tr>\n    <tr>\n      <th>2020-04-30</th>\n      <td>{'1. open': '126.5200', '2. high': '127.2700',...</td>\n      <td>126.52</td>\n      <td>127.2700</td>\n      <td>125.22</td>\n      <td>125.56</td>\n      <td>122.2989</td>\n      <td>6635800.0</td>\n      <td>0.0</td>\n      <td>1.0</td>\n    </tr>\n    <tr>\n      <th>2020-04-29</th>\n      <td>{'1. open': '128.8800', '2. high': '129.3100',...</td>\n      <td>128.88</td>\n      <td>129.3100</td>\n      <td>127.53</td>\n      <td>128.69</td>\n      <td>125.3476</td>\n      <td>5257600.0</td>\n      <td>0.0</td>\n      <td>1.0</td>\n    </tr>\n    <tr>\n      <th>2020-04-28</th>\n      <td>{'1. open': '128.0300', '2. high': '128.2000',...</td>\n      <td>128.03</td>\n      <td>128.2000</td>\n      <td>125.38</td>\n      <td>126.27</td>\n      <td>122.9905</td>\n      <td>4778100.0</td>\n      <td>0.0</td>\n      <td>1.0</td>\n    </tr>\n    <tr>\n      <th>2020-04-27</th>\n      <td>{'1. open': '125.5600', '2. high': '126.9900',...</td>\n      <td>125.56</td>\n      <td>126.9900</td>\n      <td>125.47</td>\n      <td>125.92</td>\n      <td>122.6495</td>\n      <td>4923800.0</td>\n      <td>0.0</td>\n      <td>1.0</td>\n    </tr>\n    <tr>\n      <th>2020-04-24</th>\n      <td>{'1. open': '122.4100', '2. high': '125.0000',...</td>\n      <td>122.41</td>\n      <td>125.0000</td>\n      <td>120.76</td>\n      <td>124.72</td>\n      <td>121.4807</td>\n      <td>4987300.0</td>\n      <td>0.0</td>\n      <td>1.0</td>\n    </tr>\n  </tbody>\n</table>\n<p>100 rows × 9 columns</p>\n</div>"
     },
     "metadata": {},
     "execution_count": 8
    }
   ],
   "source": [
    "df['open'] = (df['Time Series (Daily)'].apply(lambda x: x.get('1. open', 0))).astype(float)\n",
    "df['high'] = (df['Time Series (Daily)'].apply(lambda x: x.get('2. high', 0))).astype(float)\n",
    "df['low'] = (df['Time Series (Daily)'].apply(lambda x: x.get('3. low', 0))).astype(float)\n",
    "df['Close'] = (df['Time Series (Daily)'].apply(lambda x: x.get('4. close', 0))).astype(float)\n",
    "df['adjusted close'] = (df['Time Series (Daily)'].apply(lambda x: x.get('5. adjusted close', 0))).astype(float)\n",
    "df['Valume'] = (df['Time Series (Daily)'].apply(lambda x: x.get('6. volume', 0))).astype(float)\n",
    "df['dividend amount'] = (df['Time Series (Daily)'].apply(lambda x: x.get('7. dividend amount', 0))).astype(float)\n",
    "df['split coefficient'] = (df['Time Series (Daily)'].apply(lambda x: x.get('8. split coefficient', 0))).astype(float)\n",
    "df\n"
   ]
  },
  {
   "cell_type": "code",
   "execution_count": 11,
   "metadata": {},
   "outputs": [],
   "source": [
    "df.drop(columns=['Time Series (Daily)'], inplace=True)\n"
   ]
  },
  {
   "cell_type": "code",
   "execution_count": 12,
   "metadata": {},
   "outputs": [
    {
     "output_type": "execute_result",
     "data": {
      "text/plain": "              open      high     low   Close  adjusted close     Valume  \\\nDate                                                                      \n2020-09-15  122.82  123.4000  122.24  122.44        122.4400  2915221.0   \n2020-09-14  122.36  123.3800  121.76  122.09        122.0900  3641887.0   \n2020-09-11  121.39  122.7000  120.73  121.46        121.4600  3548091.0   \n2020-09-10  122.53  123.5764  120.24  120.56        120.5600  3978805.0   \n2020-09-09  122.13  123.7000  121.29  122.26        122.2600  3770678.0   \n...            ...       ...     ...     ...             ...        ...   \n2020-04-30  126.52  127.2700  125.22  125.56        122.2989  6635800.0   \n2020-04-29  128.88  129.3100  127.53  128.69        125.3476  5257600.0   \n2020-04-28  128.03  128.2000  125.38  126.27        122.9905  4778100.0   \n2020-04-27  125.56  126.9900  125.47  125.92        122.6495  4923800.0   \n2020-04-24  122.41  125.0000  120.76  124.72        121.4807  4987300.0   \n\n            dividend amount  split coefficient  \nDate                                            \n2020-09-15              0.0                1.0  \n2020-09-14              0.0                1.0  \n2020-09-11              0.0                1.0  \n2020-09-10              0.0                1.0  \n2020-09-09              0.0                1.0  \n...                     ...                ...  \n2020-04-30              0.0                1.0  \n2020-04-29              0.0                1.0  \n2020-04-28              0.0                1.0  \n2020-04-27              0.0                1.0  \n2020-04-24              0.0                1.0  \n\n[100 rows x 8 columns]",
      "text/html": "<div>\n<style scoped>\n    .dataframe tbody tr th:only-of-type {\n        vertical-align: middle;\n    }\n\n    .dataframe tbody tr th {\n        vertical-align: top;\n    }\n\n    .dataframe thead th {\n        text-align: right;\n    }\n</style>\n<table border=\"1\" class=\"dataframe\">\n  <thead>\n    <tr style=\"text-align: right;\">\n      <th></th>\n      <th>open</th>\n      <th>high</th>\n      <th>low</th>\n      <th>Close</th>\n      <th>adjusted close</th>\n      <th>Valume</th>\n      <th>dividend amount</th>\n      <th>split coefficient</th>\n    </tr>\n    <tr>\n      <th>Date</th>\n      <th></th>\n      <th></th>\n      <th></th>\n      <th></th>\n      <th></th>\n      <th></th>\n      <th></th>\n      <th></th>\n    </tr>\n  </thead>\n  <tbody>\n    <tr>\n      <th>2020-09-15</th>\n      <td>122.82</td>\n      <td>123.4000</td>\n      <td>122.24</td>\n      <td>122.44</td>\n      <td>122.4400</td>\n      <td>2915221.0</td>\n      <td>0.0</td>\n      <td>1.0</td>\n    </tr>\n    <tr>\n      <th>2020-09-14</th>\n      <td>122.36</td>\n      <td>123.3800</td>\n      <td>121.76</td>\n      <td>122.09</td>\n      <td>122.0900</td>\n      <td>3641887.0</td>\n      <td>0.0</td>\n      <td>1.0</td>\n    </tr>\n    <tr>\n      <th>2020-09-11</th>\n      <td>121.39</td>\n      <td>122.7000</td>\n      <td>120.73</td>\n      <td>121.46</td>\n      <td>121.4600</td>\n      <td>3548091.0</td>\n      <td>0.0</td>\n      <td>1.0</td>\n    </tr>\n    <tr>\n      <th>2020-09-10</th>\n      <td>122.53</td>\n      <td>123.5764</td>\n      <td>120.24</td>\n      <td>120.56</td>\n      <td>120.5600</td>\n      <td>3978805.0</td>\n      <td>0.0</td>\n      <td>1.0</td>\n    </tr>\n    <tr>\n      <th>2020-09-09</th>\n      <td>122.13</td>\n      <td>123.7000</td>\n      <td>121.29</td>\n      <td>122.26</td>\n      <td>122.2600</td>\n      <td>3770678.0</td>\n      <td>0.0</td>\n      <td>1.0</td>\n    </tr>\n    <tr>\n      <th>...</th>\n      <td>...</td>\n      <td>...</td>\n      <td>...</td>\n      <td>...</td>\n      <td>...</td>\n      <td>...</td>\n      <td>...</td>\n      <td>...</td>\n    </tr>\n    <tr>\n      <th>2020-04-30</th>\n      <td>126.52</td>\n      <td>127.2700</td>\n      <td>125.22</td>\n      <td>125.56</td>\n      <td>122.2989</td>\n      <td>6635800.0</td>\n      <td>0.0</td>\n      <td>1.0</td>\n    </tr>\n    <tr>\n      <th>2020-04-29</th>\n      <td>128.88</td>\n      <td>129.3100</td>\n      <td>127.53</td>\n      <td>128.69</td>\n      <td>125.3476</td>\n      <td>5257600.0</td>\n      <td>0.0</td>\n      <td>1.0</td>\n    </tr>\n    <tr>\n      <th>2020-04-28</th>\n      <td>128.03</td>\n      <td>128.2000</td>\n      <td>125.38</td>\n      <td>126.27</td>\n      <td>122.9905</td>\n      <td>4778100.0</td>\n      <td>0.0</td>\n      <td>1.0</td>\n    </tr>\n    <tr>\n      <th>2020-04-27</th>\n      <td>125.56</td>\n      <td>126.9900</td>\n      <td>125.47</td>\n      <td>125.92</td>\n      <td>122.6495</td>\n      <td>4923800.0</td>\n      <td>0.0</td>\n      <td>1.0</td>\n    </tr>\n    <tr>\n      <th>2020-04-24</th>\n      <td>122.41</td>\n      <td>125.0000</td>\n      <td>120.76</td>\n      <td>124.72</td>\n      <td>121.4807</td>\n      <td>4987300.0</td>\n      <td>0.0</td>\n      <td>1.0</td>\n    </tr>\n  </tbody>\n</table>\n<p>100 rows × 8 columns</p>\n</div>"
     },
     "metadata": {},
     "execution_count": 12
    }
   ],
   "source": [
    "df.index = pd.to_datetime(df.index)\n",
    "df\n"
   ]
  },
  {
   "cell_type": "code",
   "execution_count": null,
   "metadata": {},
   "outputs": [],
   "source": []
  }
 ]
}